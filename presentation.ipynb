{
 "cells": [
  {
   "cell_type": "markdown",
   "id": "3a8d5346",
   "metadata": {
    "slideshow": {
     "slide_type": "slide"
    }
   },
   "source": [
    "# Working with real data in Python - DDI session - 7 Mar 2023\n",
    "\n",
    "Charlotte Desvages"
   ]
  },
  {
   "cell_type": "markdown",
   "id": "09ebbb69",
   "metadata": {
    "slideshow": {
     "slide_type": "slide"
    }
   },
   "source": [
    "## Welcome!\n",
    "\n",
    "Today we'll work with a couple of real-world datasets.\n",
    "\n",
    "We will use a downloaded CSV dataset, and also get live data from an API.\n",
    "\n",
    "*This will be messy!*"
   ]
  },
  {
   "cell_type": "markdown",
   "id": "d1afb8d2",
   "metadata": {
    "slideshow": {
     "slide_type": "fragment"
    }
   },
   "source": [
    "You will be able to play with the code yourselves, using a cloud service called Binder -- no need to install anything!"
   ]
  },
  {
   "cell_type": "markdown",
   "id": "e00b1a24",
   "metadata": {
    "slideshow": {
     "slide_type": "subslide"
    }
   },
   "source": [
    "## Teams communication\n",
    "\n",
    "At the top of Teams, use the [**Reactions** menu](https://support.microsoft.com/en-us/office/express-yourself-in-teams-meetings-with-live-reactions-a8323a40-3d07-4129-934b-305370a36e21#ID0EFD=Desktop).\n",
    "\n",
    "You can also use the **chat** to ask questions."
   ]
  },
  {
   "cell_type": "markdown",
   "id": "0015aa85",
   "metadata": {
    "slideshow": {
     "slide_type": "subslide"
    }
   },
   "source": [
    "### How do I code along?\n",
    "\n",
    "## [github.com/chdesvages/ddi-real-data-7mar23](https://github.com/chdesvages/ddi-real-data-7mar23)\n",
    "\n",
    "Then, click on the \"**launch binder**\" button. You should then see the content of these slides. This is a **Jupyter notebook** -- a Python environment that runs in your browser. Wait until it loads completely (~1min), then:\n",
    "- scroll down until you see the flags 🚩🚩🚩. Then, click on the **Python code cell** just below. You should see a green frame appearing around it.\n",
    "- Click the <kbd>▶</kbd> button in the toolbar at the top (or press <kbd>Ctrl</kbd> + <kbd>Enter</kbd> on your keyboard). This will **run** the code inside the cell, and you will see the result below.\n",
    "\n",
    "# 🚩🚩🚩 Example 1"
   ]
  },
  {
   "cell_type": "code",
   "execution_count": null,
   "id": "a92ea615",
   "metadata": {},
   "outputs": [],
   "source": [
    "import pandas as pd\n",
    "print(f'Pandas (version {pd.__version__}) imported successfully!')"
   ]
  },
  {
   "cell_type": "code",
   "execution_count": null,
   "id": "730a1965",
   "metadata": {
    "slideshow": {
     "slide_type": "subslide"
    }
   },
   "outputs": [],
   "source": [
    "import pandas as pd\n",
    "print(f'Pandas (version {pd.__version__}) imported successfully!')"
   ]
  },
  {
   "cell_type": "markdown",
   "id": "259038c4",
   "metadata": {},
   "source": [
    "When you've run the code, `Pandas (version x.x.x) imported successfully!` should appear **below** the code cell. If that's the case, come back on Teams and give a *thumbs up*. **Don't close your browser tab or you'll lose your progress!**\n",
    "\n",
    "You can follow the presentation on the Teams meeting. When there are code examples you can run and change yourself, they will be flagged with 🚩🚩🚩 if you want to jump back into your notebook."
   ]
  },
  {
   "cell_type": "markdown",
   "id": "c6ae98cf",
   "metadata": {
    "slideshow": {
     "slide_type": "subslide"
    }
   },
   "source": [
    "## Prerequisites\n",
    "\n",
    "Some familiarity with Python will be assumed, but the session should also be accessible to those familiar with programming fundamentals more generally -- even in another language.\n",
    "\n",
    "We will use **pandas** to handle datasets.\n",
    "\n",
    "If at any point I'm going too fast, or you'd like me to explain a particular point or command in more detail, **please do say so in the chat!**"
   ]
  },
  {
   "cell_type": "markdown",
   "id": "3a21a857",
   "metadata": {
    "slideshow": {
     "slide_type": "slide"
    }
   },
   "source": [
    "# Dealing with mixed data: pandas (a quick refresher)\n",
    "\n",
    "Pandas is a module which allows the construction of a **dataframe**, an object to store data that looks a little like a spreadsheet.\n",
    "\n",
    "The data contained in a dataframe does *not* have to be of the same type. \n",
    "\n",
    "### Useful links\n",
    "\n",
    "* [Pandas documentation](http://pandas.pydata.org/pandas-docs/stable/).\n",
    "* [A quick introduction to Pandas](http://pandas.pydata.org/pandas-docs/stable/10min.html)\n",
    "* There is a fantastic tutorial (also in Jupyter) [here](http://pandas.pydata.org/pandas-docs/stable/tutorials.html) (under Lessons for New Pandas Users). This is well worth working through a little if you want a longer introduction to the basic concepts in Pandas."
   ]
  },
  {
   "cell_type": "markdown",
   "id": "da6caae0",
   "metadata": {
    "slideshow": {
     "slide_type": "slide"
    }
   },
   "source": [
    "# 🚩🚩🚩 Example 1\n",
    "\n",
    "The data file `COSING_Ingredients-Fragrance Inventory_v2.csv` is an EU dataset, which contains information on different ingredients found in perfumes and fragrances. I've downloaded it from [here](https://data.europa.eu/data/datasets/cosmetic-ingredient-database-ingredients-and-fragrance-inventory?locale=en)."
   ]
  },
  {
   "cell_type": "code",
   "execution_count": null,
   "id": "60081e7d",
   "metadata": {},
   "outputs": [],
   "source": [
    "import pandas as pd\n",
    "\n",
    "# Use the read_csv method to read the CSV file into a dataframe\n",
    "frag = pd.read_csv('COSING_Ingredients-Fragrance Inventory_v2.csv')\n",
    "\n",
    "# Look at what the dataframe contains\n",
    "frag.info()"
   ]
  },
  {
   "cell_type": "code",
   "execution_count": null,
   "id": "70de427a",
   "metadata": {
    "slideshow": {
     "slide_type": "slide"
    }
   },
   "outputs": [],
   "source": [
    "frag.head(10)"
   ]
  },
  {
   "cell_type": "markdown",
   "id": "7f4a79b6",
   "metadata": {
    "slideshow": {
     "slide_type": "notes"
    }
   },
   "source": [
    "- Find the CAS number of every ingredient marked as being used for \"skin conditioning\"."
   ]
  },
  {
   "cell_type": "code",
   "execution_count": null,
   "id": "89bee3de",
   "metadata": {
    "slideshow": {
     "slide_type": "subslide"
    }
   },
   "outputs": [],
   "source": []
  },
  {
   "cell_type": "markdown",
   "id": "e0a6617f",
   "metadata": {
    "slideshow": {
     "slide_type": "slide"
    }
   },
   "source": [
    "# 🚩🚩🚩 Example 2: Scotland energy dataset\n",
    "\n",
    "[This dataset](https://data.europa.eu/data/datasets/energy-supply-point-locations-scotland?locale=en) contains data on the locations of energy supply points in Scotland (both heat and electricity)."
   ]
  },
  {
   "cell_type": "code",
   "execution_count": null,
   "id": "075f2fe8",
   "metadata": {},
   "outputs": [],
   "source": [
    "energy = pd.read_csv('EnergySupply.csv')\n",
    "energy.head(10)"
   ]
  },
  {
   "cell_type": "markdown",
   "id": "85a9ee52",
   "metadata": {
    "slideshow": {
     "slide_type": "subslide"
    }
   },
   "source": []
  }
 ],
 "metadata": {
  "celltoolbar": "Slideshow",
  "kernelspec": {
   "display_name": "Python 3 (ipykernel)",
   "language": "python",
   "name": "python3"
  },
  "language_info": {
   "codemirror_mode": {
    "name": "ipython",
    "version": 3
   },
   "file_extension": ".py",
   "mimetype": "text/x-python",
   "name": "python",
   "nbconvert_exporter": "python",
   "pygments_lexer": "ipython3",
   "version": "3.9.12"
  }
 },
 "nbformat": 4,
 "nbformat_minor": 5
}
